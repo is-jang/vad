{
 "cells": [
  {
   "cell_type": "code",
   "execution_count": 10,
   "metadata": {},
   "outputs": [],
   "source": [
    "import os\n",
    "import numpy as np\n",
    "import librosa\n",
    "import pandas as pd\n",
    "\n",
    "\n",
    "from sklearn.model_selection import train_test_split\n",
    "\n",
    "from tqdm import tqdm\n",
    "import random\n",
    "from sklearn.metrics import f1_score\n",
    "import wandb\n",
    "from audiomentations import AddBackgroundNoise\n",
    "import soundfile as sf\n"
   ]
  },
  {
   "cell_type": "code",
   "execution_count": 11,
   "metadata": {},
   "outputs": [],
   "source": [
    "import warnings\n",
    "warnings.filterwarnings(\"ignore\")"
   ]
  },
  {
   "cell_type": "code",
   "execution_count": 12,
   "metadata": {},
   "outputs": [],
   "source": [
    "class CONFIG:\n",
    "    VOICE_DIR = './cv-corpus-19.0-2024-09-13/ko/clips/'\n",
    "    NOISE_DIR = './ESC-50-master/audio/'"
   ]
  },
  {
   "cell_type": "code",
   "execution_count": 13,
   "metadata": {},
   "outputs": [],
   "source": [
    "train_df = pd.read_csv('./cv-corpus-19.0-2024-09-13/ko/train.tsv', sep='\\t')\n",
    "\n",
    "train_df, valid_df = train_test_split(train_df, test_size=0.2, random_state=42)"
   ]
  },
  {
   "cell_type": "code",
   "execution_count": 14,
   "metadata": {},
   "outputs": [],
   "source": [
    "test_df = pd.read_csv('./cv-corpus-19.0-2024-09-13/ko/test.tsv', sep='\\t')"
   ]
  },
  {
   "cell_type": "code",
   "execution_count": 15,
   "metadata": {},
   "outputs": [],
   "source": [
    "noise_df = pd.read_csv('./ESC-50-master/meta/esc50.csv')"
   ]
  },
  {
   "cell_type": "code",
   "execution_count": 16,
   "metadata": {},
   "outputs": [],
   "source": [
    "train_voice_paths = train_df['path'].values\n",
    "valid_voice_paths = valid_df['path'].values\n",
    "test_voice_paths = test_df['path'].values\n",
    "\n",
    "noise_paths = noise_df['filename'].values"
   ]
  },
  {
   "cell_type": "code",
   "execution_count": null,
   "metadata": {},
   "outputs": [],
   "source": [
    "def get_dataset(voice_paths, noise_paths, dir=\"./train\"):\n",
    "    df = pd.DataFrame(columns=['aug', 'gt'])\n",
    "    for i, voice_path in tqdm(enumerate(voice_paths)):\n",
    "        noise_path = CONFIG.NOISE_DIR + random.choice(noise_paths)\n",
    "\n",
    "        voice, _ = librosa.load(CONFIG.VOICE_DIR + voice_path, sr=16000)\n",
    "        max_start = len(voice) - 51500\n",
    "        if max_start < 0:\n",
    "            continue\n",
    "\n",
    "        start = np.random.randint(0, max_start)\n",
    "        voice_frame = voice[start:start + 51500] \n",
    "\n",
    "        transform = AddBackgroundNoise(\n",
    "        sounds_path=noise_path,\n",
    "        min_snr_db=3.0,\n",
    "        max_snr_db=30.0,\n",
    "        p=1.0,\n",
    "        )\n",
    "        voice_noise_frame = transform(voice_frame, sample_rate=16000)\n",
    "            \n",
    "\n",
    "        sf.write(f\"{dir}/aug/{i}.wav\", voice_noise_frame, 16000)\n",
    "        sf.write(f\"{dir}/gt/{i}.wav\", voice_frame, 16000)\n",
    "        df.loc[i] = [f\"{dir}/aug/{i}.wav\", f\"{dir}/gt/{i}.wav\"]\n",
    "    \n",
    "    df.to_csv(f\"{dir}_dataset.csv\", index=False)\n"
   ]
  },
  {
   "cell_type": "code",
   "execution_count": 18,
   "metadata": {},
   "outputs": [
    {
     "name": "stderr",
     "output_type": "stream",
     "text": [
      "426it [00:38, 11.18it/s]\n"
     ]
    }
   ],
   "source": [
    "get_dataset(train_voice_paths, noise_paths, dir=\"./train_denoiser\")"
   ]
  },
  {
   "cell_type": "code",
   "execution_count": 19,
   "metadata": {},
   "outputs": [
    {
     "name": "stderr",
     "output_type": "stream",
     "text": [
      "107it [00:09, 11.58it/s]\n"
     ]
    }
   ],
   "source": [
    "get_dataset(valid_voice_paths, noise_paths, dir=\"./valid_denoiser\")"
   ]
  },
  {
   "cell_type": "code",
   "execution_count": 20,
   "metadata": {},
   "outputs": [
    {
     "name": "stderr",
     "output_type": "stream",
     "text": [
      "352it [00:29, 12.01it/s]\n"
     ]
    }
   ],
   "source": [
    "get_dataset(test_voice_paths, noise_paths, dir=\"./test_denoiser\")"
   ]
  }
 ],
 "metadata": {
  "kernelspec": {
   "display_name": "myenv",
   "language": "python",
   "name": "python3"
  },
  "language_info": {
   "codemirror_mode": {
    "name": "ipython",
    "version": 3
   },
   "file_extension": ".py",
   "mimetype": "text/x-python",
   "name": "python",
   "nbconvert_exporter": "python",
   "pygments_lexer": "ipython3",
   "version": "3.10.12"
  }
 },
 "nbformat": 4,
 "nbformat_minor": 2
}
